{
 "cells": [
  {
   "cell_type": "markdown",
   "metadata": {},
   "source": [
    "n-мерное нормальное распределение имеет вид:\n",
    "\n",
    "$p(x) = \\frac{1}{\\sqrt{(2\\pi)^n|\\Sigma|}}exp(-\\frac{(x-\\mu)^T\\Sigma^{-1}(x-\\mu)}{2})$, где\n",
    "\n",
    "$\\mu_i = Ex_i$\n",
    "\n",
    "$\\Sigma_{ij} = E(x_i - \\mu_i)(x_j-\\mu_j) = Ex_ix_j - \\mu_i\\mu_j$, $\\Sigma = Exx^T - \\mu\\mu^T$"
   ]
  },
  {
   "cell_type": "markdown",
   "metadata": {},
   "source": [
    "В непрервыном случае энтропия считается, как\n",
    "\n",
    "$Entropy = \\int_{R} -p(x)ln(p(x))dx = - Eln(\\frac{1}{\\sqrt{(2\\pi)^n|\\Sigma|}}) + E\\frac{1}{2}(x-\\mu)^T\\Sigma^{-1}(x-\\mu) = \\frac{1}{2}ln((2\\pi)^n|\\Sigma|) + \\frac{1}{2}E(x-\\mu)^T\\Sigma^{-1}(x-\\mu)$\n",
    "\n",
    "\n",
    "Найдём $E(x-\\mu)^T\\Sigma^{-1}(x-\\mu)$:\n",
    "\n",
    "$E(x-\\mu)^T\\Sigma^{-1}(x-\\mu) = Ex^T\\Sigma^{-1} x - Ex^T\\Sigma^{-1}\\mu - E\\mu^T\\Sigma^{-1} x + \\mu^T\\Sigma^{-1}\\mu = Ex^T\\Sigma^{-1} x - \\mu^T\\Sigma^{-1}\\mu$"
   ]
  },
  {
   "cell_type": "markdown",
   "metadata": {},
   "source": [
    "Под знаком матожидания стоит число (матрица 1x1), значит:\n",
    "\n",
    "$Ex^T\\Sigma^{-1} x - \\mu^T\\Sigma^{-1}\\mu = E(trace(x^T\\Sigma^{-1}x) - trace(\\mu^T\\Sigma^{-1}\\mu) = trace(\\Sigma^{-1}xx^T)\n",
    "- trace(\\Sigma^{-1}\\mu\\mu^T) =\\\\= trace(\\Sigma^{-1}(Exx^T - \\mu\\mu^T)) = trace(\\Sigma^{-1}\\Sigma) = trace(I) = n$"
   ]
  },
  {
   "cell_type": "markdown",
   "metadata": {},
   "source": [
    "$Entropy = \\frac{1}{2}(ln((2\\pi)^n|\\Sigma|) + n) = \\frac{1}{2}ln((2\\pi e)^n|\\Sigma|)$, что и требовалось доказать."
   ]
  }
 ],
 "metadata": {
  "kernelspec": {
   "display_name": "Python 2",
   "language": "python2",
   "name": "python2"
  },
  "language_info": {
   "codemirror_mode": {
    "name": "ipython",
    "version": 2
   },
   "file_extension": ".py",
   "mimetype": "text/x-python",
   "name": "python",
   "nbconvert_exporter": "python",
   "pygments_lexer": "ipython2",
   "version": "2.7.13"
  }
 },
 "nbformat": 4,
 "nbformat_minor": 2
}
