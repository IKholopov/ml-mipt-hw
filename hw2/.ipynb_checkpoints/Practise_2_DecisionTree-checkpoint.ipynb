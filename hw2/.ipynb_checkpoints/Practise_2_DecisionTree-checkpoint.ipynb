{
 "cells": [
  {
   "cell_type": "code",
   "execution_count": 28,
   "metadata": {
    "collapsed": true
   },
   "outputs": [],
   "source": [
    "import numpy as np\n",
    "from sklearn.metrics import mean_squared_error\n",
    "from sklearn.base import BaseEstimator\n",
    "from sklearn.tree import DecisionTreeClassifier\n",
    "from sklearn.tree import DecisionTreeRegressor\n",
    "from scipy.optimize import minimize"
   ]
  },
  {
   "cell_type": "code",
   "execution_count": 63,
   "metadata": {
    "collapsed": false
   },
   "outputs": [],
   "source": [
    "from sklearn.datasets import load_boston\n",
    "\n",
    "boston = load_boston()\n",
    "X = boston.data\n",
    "y = boston.target"
   ]
  },
  {
   "cell_type": "code",
   "execution_count": 64,
   "metadata": {
    "collapsed": false
   },
   "outputs": [],
   "source": [
    "class TreeNode(object):\n",
    "    def __init__(self, j, t):\n",
    "        self.j = j\n",
    "        self.t = t\n",
    "        self.left_node = None\n",
    "        self.right_node = None\n",
    "        self.result = None\n",
    "    \n",
    "    #X => L, R\n",
    "    def divide_set(self, X):\n",
    "        left_mask = X[:, self.j] <= self.t\n",
    "        right_mask = np.array([True] * len(X)) ^ left_mask\n",
    "        L = X[left_mask]\n",
    "        R = X[right_mask]\n",
    "        return L, R\n",
    "    \n",
    "    def divide_set_values(self, Q, y, j=None, t=None):\n",
    "        if j is None:\n",
    "            j = self.j\n",
    "        if t is None:\n",
    "            t = self.t\n",
    "        left_mask = Q[:, j] <= t\n",
    "        right_mask = np.array([True] * len(Q)) ^ left_mask\n",
    "        L_y = y[left_mask]\n",
    "        R_y = y[right_mask]\n",
    "        return L_y, R_y\n",
    "    #Q => L, R\n",
    "    def get_score(self, H, Q, y, j=None, t=None):\n",
    "        if j is None:\n",
    "            j = self.j\n",
    "        if t is None:\n",
    "            t = self.t\n",
    "        L_y, R_y = self.divide_set_values(Q, y, j, t)\n",
    "        return float(len(L_y) * H(L_y) + len(R_y) * H(R_y))/len(Q)\n",
    "         "
   ]
  },
  {
   "cell_type": "code",
   "execution_count": 65,
   "metadata": {
    "collapsed": true
   },
   "outputs": [],
   "source": [
    "def MSE_of_set(y):\n",
    "    if len(y) == 0:\n",
    "        return 0\n",
    "    return mean_squared_error(y, np.array([np.mean(y)] * len(y)))"
   ]
  },
  {
   "cell_type": "code",
   "execution_count": 66,
   "metadata": {
    "collapsed": true
   },
   "outputs": [],
   "source": [
    "def entropy_of_set(y):\n",
    "    p = [float(np.sum(y==val))/len(y) for val in np.unique(y)]\n",
    "    return np.sum([-1*p_i*np.log(p_i) for p_i in p])"
   ]
  },
  {
   "cell_type": "code",
   "execution_count": 67,
   "metadata": {
    "collapsed": true
   },
   "outputs": [],
   "source": [
    "def gini_of_set(y):\n",
    "    p = [float(np.sum(y==val))/len(y) for val in np.unique(y)]\n",
    "    return np.sum([p_i*(1-p_i) for p_i in p])"
   ]
  },
  {
   "cell_type": "code",
   "execution_count": 68,
   "metadata": {
    "collapsed": true
   },
   "outputs": [],
   "source": [
    "def misclassification_of_set(y):\n",
    "    p = [float(np.sum(y==val))/len(y) for val in np.unique(y)]\n",
    "    return 1 - np.max(p)"
   ]
  },
  {
   "cell_type": "code",
   "execution_count": 69,
   "metadata": {
    "collapsed": true
   },
   "outputs": [],
   "source": [
    "from exceptions import ValueError"
   ]
  },
  {
   "cell_type": "code",
   "execution_count": 106,
   "metadata": {
    "collapsed": false
   },
   "outputs": [],
   "source": [
    "class DecisionTree(BaseEstimator):\n",
    "    \n",
    "    def __init__(self, max_depth=30, criterion='gini/MSE'):\n",
    "        self.max_depth = max_depth\n",
    "        self.criterion = criterion\n",
    "        self.root = None\n",
    "        if self.criterion == 'gini/MSE':\n",
    "            self.estimator_type = None\n",
    "        elif self.criterion in ['gini', 'entropy', 'misclassification']:\n",
    "            self.estimator_type = 'classifier'\n",
    "        elif self.criterion in ['MSE']:\n",
    "            self.estimator_type = 'regressor'\n",
    "        else:\n",
    "            raise ValueError('Invalid criterion argument')   #Exception\n",
    "        \n",
    "    def fit(self, X, y):\n",
    "        if self.estimator_type == None:\n",
    "            if y.dtype in ['float64', 'float32', 'float']:\n",
    "                self.criterion = 'MSE'\n",
    "                self.estimator_type = 'regressor'\n",
    "            else:\n",
    "                self.criterion = 'gini'\n",
    "                self.estimator_type = 'classifier'\n",
    "        self.root = TreeNode(0, 0)\n",
    "        nodes = [(self.root, X, y, 1)]\n",
    "        while len(nodes) > 0:\n",
    "            node, Q, y_Q, depth = nodes[0]\n",
    "            nodes = nodes[1:]\n",
    "            j, t = self.get_node_optimal_parameters(Q, y_Q, node)\n",
    "            node.j = j\n",
    "            node.t = t\n",
    "            if self.estimator_type == 'regressor':\n",
    "                node.result = np.mean(y_Q)\n",
    "            else:\n",
    "                node.result = np.unique(y_Q)[np.argmax([np.sum(y_Q==val) \\\n",
    "                                                      for val in np.unique(y_Q)])]\n",
    "            if depth < self.max_depth:\n",
    "                L, R = node.divide_set(Q)\n",
    "                L_y, R_y = node.divide_set_values(Q, y_Q)\n",
    "                if(len(L_y) != 0 and len(R_y) != 0):\n",
    "                    node.left_node = TreeNode(0, 0)\n",
    "                    node.right_node = TreeNode(0, 0)\n",
    "                    nodes.append((node.left_node, L, L_y, depth+1))\n",
    "                    nodes.append((node.right_node, R, R_y, depth+1))\n",
    "        return self\n",
    "        \n",
    "    def predict(self, X):\n",
    "        y_predict = []\n",
    "        for i in range(len(X)):\n",
    "            node = self.root\n",
    "            Q = X[i]\n",
    "            while node.left_node is not None:\n",
    "                if Q[node.j] <= node.t:\n",
    "                    node = node.left_node\n",
    "                else:\n",
    "                    node = node.right_node\n",
    "            y_predict.append(node.result)\n",
    "        return y_predict\n",
    "        \n",
    "        \n",
    "    def get_criterion(self):\n",
    "        if self.criterion == 'MSE':\n",
    "            return MSE_of_set\n",
    "        elif self.criterion == 'gini':\n",
    "            return gini_of_set\n",
    "        elif self.criterion == 'entropy':\n",
    "            return entropy_of_set\n",
    "        elif self.criterion == 'misclassification':\n",
    "            return misclassification_of_set\n",
    "        else:\n",
    "            raise AttributeError('Invalid criterion') #Exception\n",
    "        \n",
    "    def get_node_optimal_parameters(self, X, y, node):\n",
    "        scores = []\n",
    "        for i in range(np.shape(X)[1]):\n",
    "            if self.estimator_type == 'classifier':\n",
    "                minimized = minimize(\n",
    "                    lambda x: node.get_score(self.get_criterion(), X, y, i, x), \n",
    "                            X[0,i])\n",
    "                scores.append([minimized.x[0], minimized.fun])\n",
    "            else:\n",
    "                t_scores = np.array(\n",
    "                    [[val, node.get_score(self.get_criterion(), X, y, i, val)] \\\n",
    "                     for val in np.unique(X[:, i])])\n",
    "                scores.append(t_scores[np.argmin(t_scores[:, 1])])\n",
    "        scores = np.array(scores)\n",
    "        j = np.argmin(scores[:, 1])\n",
    "        t = scores[j, 0]\n",
    "        return j, t"
   ]
  },
  {
   "cell_type": "code",
   "execution_count": 95,
   "metadata": {
    "collapsed": false
   },
   "outputs": [],
   "source": [
    "def test_node(X, y):\n",
    "    node = TreeNode(np.shape(X)[1]/2, np.mean(X[:, np.shape(X)[1]/2]))\n",
    "    L, R = node.divide_set(X)\n",
    "    print((np.shape(L), np.shape(R)))\n",
    "    print(node.get_score(MSE_of_set, X, y))"
   ]
  },
  {
   "cell_type": "code",
   "execution_count": 96,
   "metadata": {
    "collapsed": false
   },
   "outputs": [
    {
     "name": "stdout",
     "output_type": "stream",
     "text": [
      "((213, 13), (293, 13))\n",
      "74.5402393556\n"
     ]
    }
   ],
   "source": [
    "test_node(X, y)"
   ]
  },
  {
   "cell_type": "code",
   "execution_count": 97,
   "metadata": {
    "collapsed": false,
    "scrolled": false
   },
   "outputs": [],
   "source": [
    "estimator = DecisionTree(max_depth=5)\n",
    "est = estimator.fit(X, y)"
   ]
  },
  {
   "cell_type": "code",
   "execution_count": 98,
   "metadata": {
    "collapsed": false
   },
   "outputs": [
    {
     "name": "stdout",
     "output_type": "stream",
     "text": [
      "300.935467958\n"
     ]
    }
   ],
   "source": [
    "t0 = time()\n",
    "from sklearn.cross_validation import cross_val_score\n",
    "import matplotlib.pyplot as plt\n",
    "%matplotlib inline\n",
    "\n",
    "acc_score = []\n",
    "sk_score = []\n",
    "for depth in range(2, 15):\n",
    "    tree = DecisionTree(max_depth=depth)\n",
    "    tree.fit(X, y)\n",
    "    sk_tree = DecisionTreeRegressor(max_depth=depth)\n",
    "    sk_tree.fit(X, y)\n",
    "    acc_score.append(cross_val_score(tree, X, y, scoring='neg_mean_squared_error').mean())\n",
    "    sk_score.append(cross_val_score(sk_tree, X, y, scoring='neg_mean_squared_error').mean())\n",
    "print(time() - t0)"
   ]
  },
  {
   "cell_type": "code",
   "execution_count": 99,
   "metadata": {
    "collapsed": true
   },
   "outputs": [],
   "source": [
    "def DepthPlot(acc_score, sk_score, title):\n",
    "    plt.title(title)\n",
    "    plt.xlabel('Depth')\n",
    "    plt.ylabel('Accuracy')\n",
    "    line0, = plt.plot(range(2, 15), acc_score)\n",
    "    line1, = plt.plot(range(2, 15), sk_score)\n",
    "    plt.legend([line0, line1], ['tree', 'sklearn'])\n",
    "    plt.show()"
   ]
  },
  {
   "cell_type": "code",
   "execution_count": 100,
   "metadata": {
    "collapsed": false
   },
   "outputs": [
    {
     "data": {
      "image/png": "[encoded data removed]",
      "text/plain": [
       "<matplotlib.figure.Figure at 0x7f6a1f734390>"
      ]
     },
     "metadata": {},
     "output_type": "display_data"
    }
   ],
   "source": [
    "DepthPlot(acc_score, sk_score, 'CV')"
   ]
  },
  {
   "cell_type": "code",
   "execution_count": 89,
   "metadata": {
    "collapsed": false
   },
   "outputs": [
    {
     "name": "stdout",
     "output_type": "stream",
     "text": [
      "31.3631289005\n"
     ]
    }
   ],
   "source": [
    "t0=time()\n",
    "acc_score = []\n",
    "sk_score = []\n",
    "for depth in range(2, 15):\n",
    "    tree = DecisionTree(max_depth=depth)\n",
    "    tree.fit(X, y)\n",
    "    sk_tree = DecisionTreeRegressor(max_depth=depth)\n",
    "    sk_tree.fit(X, y)\n",
    "    acc_score.append(mean_squared_error(y, tree.predict(X)))\n",
    "    sk_score.append(mean_squared_error(y, sk_tree.predict(X)))\n",
    "print(time() - t0)"
   ]
  },
  {
   "cell_type": "code",
   "execution_count": 101,
   "metadata": {
    "collapsed": false
   },
   "outputs": [
    {
     "data": {
      "image/png": "[encoded data removed]",
      "text/plain": [
       "<matplotlib.figure.Figure at 0x7f6a1f923150>"
      ]
     },
     "metadata": {},
     "output_type": "display_data"
    }
   ],
   "source": [
    "DepthPlot(acc_score, sk_score, 'Training dataset')"
   ]
  },
  {
   "cell_type": "code",
   "execution_count": 103,
   "metadata": {
    "collapsed": true
   },
   "outputs": [],
   "source": [
    "import pandas as pd\n",
    "data = pd.read_csv('german.data-numeric', header=None, delim_whitespace=True)\n",
    "\n",
    "X = data[list(set(data.columns) - set([24]))].values\n",
    "y = data[24].values"
   ]
  },
  {
   "cell_type": "code",
   "execution_count": 107,
   "metadata": {
    "collapsed": false
   },
   "outputs": [
    {
     "data": {
      "image/png": "[encoded data removed]",
      "text/plain": [
       "<matplotlib.figure.Figure at 0x7f6a1f713510>"
      ]
     },
     "metadata": {},
     "output_type": "display_data"
    },
    {
     "name": "stdout",
     "output_type": "stream",
     "text": [
      "77.2644870281\n"
     ]
    }
   ],
   "source": [
    "from time import time\n",
    "t0 = time()\n",
    "acc_score = []\n",
    "sk_score = []\n",
    "for depth in range(2, 15):\n",
    "    tree = DecisionTree(max_depth=depth)\n",
    "    tree.fit(X, y)\n",
    "    sk_tree = DecisionTreeClassifier(max_depth=depth)\n",
    "    sk_tree.fit(X, y)\n",
    "    acc_score.append(cross_val_score(tree, X, y, scoring='accuracy').mean())\n",
    "    sk_score.append(cross_val_score(sk_tree, X, y, scoring='accuracy').mean())\n",
    "DepthPlot(acc_score, sk_score, 'CV')\n",
    "print(time()-t0)"
   ]
  },
  {
   "cell_type": "code",
   "execution_count": 108,
   "metadata": {
    "collapsed": false
   },
   "outputs": [
    {
     "name": "stdout",
     "output_type": "stream",
     "text": [
      "23.7006881237\n"
     ]
    },
    {
     "data": {
      "image/png": "[encoded data removed]",
      "text/plain": [
       "<matplotlib.figure.Figure at 0x7f6a2286ea90>"
      ]
     },
     "metadata": {},
     "output_type": "display_data"
    }
   ],
   "source": [
    "t0=time()\n",
    "acc_score = []\n",
    "sk_score = []\n",
    "for depth in range(2, 15):\n",
    "    tree = DecisionTree(max_depth=depth)\n",
    "    tree.fit(X, y)\n",
    "    sk_tree = DecisionTreeRegressor(max_depth=depth)\n",
    "    sk_tree.fit(X, y)\n",
    "    acc_score.append(mean_squared_error(y, tree.predict(X)))\n",
    "    sk_score.append(mean_squared_error(y, sk_tree.predict(X)))\n",
    "print(time() - t0)\n",
    "DepthPlot(acc_score, sk_score, 'Training set')"
   ]
  }
 ],
 "metadata": {
  "kernelspec": {
   "display_name": "Python 2",
   "language": "python2",
   "name": "python2"
  },
  "language_info": {
   "codemirror_mode": {
    "name": "ipython",
    "version": 2
   },
   "file_extension": ".py",
   "mimetype": "text/x-python",
   "name": "python",
   "nbconvert_exporter": "python",
   "pygments_lexer": "ipython2",
   "version": "2.7.13"
  }
 },
 "nbformat": 4,
 "nbformat_minor": 2
}
