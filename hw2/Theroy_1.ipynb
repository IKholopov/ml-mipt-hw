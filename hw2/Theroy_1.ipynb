{
 "cells": [
  {
   "cell_type": "markdown",
   "metadata": {},
   "source": [
    "Будем решать задачи в предположении, что выборка $Y = (y_{1}, y_{2}, ..., y_{N})$ - элементы выборки, дошедшие до листа. Посчитаем матожидания для MSE выборки в этом листе."
   ]
  },
  {
   "cell_type": "markdown",
   "metadata": {},
   "source": [
    "$E_{rand} = \\sum_{j = 1}^{n}(\\sum_{i = 1}^{n} \\frac{(y_{i} - y_{j})^2}{n^2}) = \\frac{1}{n^2}\\sum_{j = 1}^{n}(\\sum_{i = 1}^{n}y_i^2 + y_j^2 - 2y_i y_j) = 2(\\frac{n-1}{n^2}\\sum_{i = 1}^{n}y_i^2 - \\sum_{i = 1}^{n}\\sum_{j = 1}^{n}y_i y_j)$ \n",
    "\n",
    "$E_{mean} = \\frac{1}{n}\\sum_{i=1}^{n}y_i^2 - \\frac{1}{n^2}(\\sum_{i=1}^{n}y_i)^2 = \\frac{1}{n}\\sum_{i=1}^{n}y_i^2 - \\frac{1}{n^2}(\\sum_{i=1}^{n}y_i^2 + 2\\sum_{i=1}^{n}\\sum_{j=1}^{n}y_i y_j)$  \n",
    "\n",
    "$E_{rand} - E_{mean} = (\\frac{2n-1}{n^2}\\sum_{i = 1}^{n}y_i^2) - \\frac{1}{n}\\sum_{i=1}^{n}y_i^2 = \\frac{n-1}{n^2}\\sum_{i = 1}^{n}y_i^2 > 0$, если $y \\neq 0$ п.н.\n",
    "\n",
    "Следовательно $E_{rand} > E_{mean}$, значит при ответе средним среднеквадратичная ошибка меньше."
   ]
  }
 ],
 "metadata": {
  "kernelspec": {
   "display_name": "Python 2",
   "language": "python2",
   "name": "python2"
  },
  "language_info": {
   "codemirror_mode": {
    "name": "ipython",
    "version": 2
   },
   "file_extension": ".py",
   "mimetype": "text/x-python",
   "name": "python",
   "nbconvert_exporter": "python",
   "pygments_lexer": "ipython2",
   "version": "2.7.13"
  }
 },
 "nbformat": 4,
 "nbformat_minor": 2
}
