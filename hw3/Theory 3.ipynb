{
 "cells": [
  {
   "cell_type": "markdown",
   "metadata": {},
   "source": [
    "$E(\\frac{\\sum_{i}X_i}{M})^2 - (E\\frac{\\sum_{i}X_i}{M})^2 = \\frac{1}{M^2}(E\\sum_{i}X_i^2 + 2E\\sum_{i < j}X_iX_j - \\sum_{i}(EX_i)^2 - 2\\sum_{i<j}EX_iEX_j) = \\frac{\\sigma^2}{M} + \\frac{1}{M^2}M(M-1)(E(X_iX_j)-EX_iX_j) = \\\\\n",
    "= \\frac{\\sigma^2}{M} + \\frac{1}{M}(M-1)(\\rho\\sigma^2) = \\rho\\sigma^2 + \\frac{\\sigma^2}{M}(1-\\rho)$"
   ]
  }
 ],
 "metadata": {
  "kernelspec": {
   "display_name": "Python 2",
   "language": "python2",
   "name": "python2"
  },
  "language_info": {
   "codemirror_mode": {
    "name": "ipython",
    "version": 2
   },
   "file_extension": ".py",
   "mimetype": "text/x-python",
   "name": "python",
   "nbconvert_exporter": "python",
   "pygments_lexer": "ipython2",
   "version": "2.7.13"
  }
 },
 "nbformat": 4,
 "nbformat_minor": 2
}
