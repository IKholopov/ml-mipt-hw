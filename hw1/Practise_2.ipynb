{
 "cells": [
  {
   "cell_type": "code",
   "execution_count": 1,
   "metadata": {
    "collapsed": true
   },
   "outputs": [],
   "source": [
    "import numpy as np\n",
    "\n",
    "from sklearn.datasets import load_digits, load_breast_cancer"
   ]
  },
  {
   "cell_type": "markdown",
   "metadata": {},
   "source": [
    "### Загружаем датасет"
   ]
  },
  {
   "cell_type": "code",
   "execution_count": 2,
   "metadata": {
    "collapsed": true
   },
   "outputs": [],
   "source": [
    "digits = load_digits()\n",
    "breast_cancer = load_breast_cancer()"
   ]
  },
  {
   "cell_type": "markdown",
   "metadata": {},
   "source": [
    "### Признаки"
   ]
  },
  {
   "cell_type": "code",
   "execution_count": 3,
   "metadata": {
    "collapsed": false
   },
   "outputs": [
    {
     "name": "stdout",
     "output_type": "stream",
     "text": [
      "[  0.   0.   5.  13.   9.   1.   0.   0.   0.   0.  13.  15.  10.  15.   5.\n",
      "   0.   0.   3.  15.   2.   0.  11.   8.   0.   0.   4.  12.   0.   0.   8.\n",
      "   8.   0.   0.   5.   8.   0.   0.   9.   8.   0.   0.   4.  11.   0.   1.\n",
      "  12.   7.   0.   0.   2.  14.   5.  10.  12.   0.   0.   0.   0.   6.  13.\n",
      "  10.   0.   0.   0.]\n",
      "[  1.79900000e+01   1.03800000e+01   1.22800000e+02   1.00100000e+03\n",
      "   1.18400000e-01   2.77600000e-01   3.00100000e-01   1.47100000e-01\n",
      "   2.41900000e-01   7.87100000e-02   1.09500000e+00   9.05300000e-01\n",
      "   8.58900000e+00   1.53400000e+02   6.39900000e-03   4.90400000e-02\n",
      "   5.37300000e-02   1.58700000e-02   3.00300000e-02   6.19300000e-03\n",
      "   2.53800000e+01   1.73300000e+01   1.84600000e+02   2.01900000e+03\n",
      "   1.62200000e-01   6.65600000e-01   7.11900000e-01   2.65400000e-01\n",
      "   4.60100000e-01   1.18900000e-01]\n"
     ]
    }
   ],
   "source": [
    "print(digits.data[0])\n",
    "print(breast_cancer.data[0])"
   ]
  },
  {
   "cell_type": "markdown",
   "metadata": {},
   "source": [
    "### Оценка наивным баесовским классификатором"
   ]
  },
  {
   "cell_type": "code",
   "execution_count": 4,
   "metadata": {
    "collapsed": false
   },
   "outputs": [
    {
     "name": "stdout",
     "output_type": "stream",
     "text": [
      "digits, Gaussian: 0.818600380355\n",
      "digits, Multinomial: 0.870877148974\n",
      "digits, Bernoulli: 0.825823650778\n",
      "breast_cancer, Gaussian: 0.936749280609\n",
      "breast_cancer, Multinomial: 0.894579040193\n",
      "breast_cancer, Bernoulli: 0.627420402859\n"
     ]
    },
    {
     "name": "stderr",
     "output_type": "stream",
     "text": [
      "/usr/lib/python2.7/site-packages/sklearn/cross_validation.py:44: DeprecationWarning: This module was deprecated in version 0.18 in favor of the model_selection module into which all the refactored classes and functions are moved. Also note that the interface of the new CV iterators are different from that of this module. This module will be removed in 0.20.\n",
      "  \"This module will be removed in 0.20.\", DeprecationWarning)\n"
     ]
    }
   ],
   "source": [
    "from sklearn.naive_bayes import GaussianNB, MultinomialNB, BernoulliNB\n",
    "from sklearn.cross_validation import cross_val_score\n",
    "\n",
    "def cv_score_mean(estimator, dataset):\n",
    "    return cross_val_score(estimator, dataset.data, y=dataset.target).mean()\n",
    "\n",
    "digits_score = [cv_score_mean(GaussianNB(), digits),\n",
    "                cv_score_mean(MultinomialNB(), digits),\n",
    "                cv_score_mean(BernoulliNB(), digits)]\n",
    "print('digits, Gaussian: {}'.format(cv_score_mean(GaussianNB(), digits)))\n",
    "print('digits, Multinomial: {}'.format(cv_score_mean(MultinomialNB(), digits)))\n",
    "print('digits, Bernoulli: {}'.format(cv_score_mean(BernoulliNB(), digits)))\n",
    "\n",
    "breast_score = [cv_score_mean(GaussianNB(), breast_cancer),\n",
    "                cv_score_mean(MultinomialNB(), breast_cancer),\n",
    "                cv_score_mean(BernoulliNB(), breast_cancer)]\n",
    "print('breast_cancer, Gaussian: {}'.format(cv_score_mean(GaussianNB(), breast_cancer)))\n",
    "print('breast_cancer, Multinomial: {}'.format(cv_score_mean(MultinomialNB(), breast_cancer)))\n",
    "print('breast_cancer, Bernoulli: {}'.format(cv_score_mean(BernoulliNB(), breast_cancer)))"
   ]
  },
  {
   "cell_type": "markdown",
   "metadata": {},
   "source": [
    "Максимальное качество на breast_cancer: 0.936749280609 (нормальное распределение)"
   ]
  },
  {
   "cell_type": "markdown",
   "metadata": {},
   "source": [
    "Максимальное качество на digits: 0.870877148974 (мультиномиальное распределение)"
   ]
  },
  {
   "cell_type": "markdown",
   "metadata": {},
   "source": [
    "Верны утверждения (с) и (d).\n",
    "(Если в (c) имеется в виду, что мультиномиальное сработало лучше остальных. Если спрашивается, на каком датасете мультиномиальное сработало лучше, то (c) неверно."
   ]
  }
 ],
 "metadata": {
  "kernelspec": {
   "display_name": "Python 2",
   "language": "python2",
   "name": "python2"
  },
  "language_info": {
   "codemirror_mode": {
    "name": "ipython",
    "version": 2
   },
   "file_extension": ".py",
   "mimetype": "text/x-python",
   "name": "python",
   "nbconvert_exporter": "python",
   "pygments_lexer": "ipython2",
   "version": "2.7.13"
  }
 },
 "nbformat": 4,
 "nbformat_minor": 2
}
