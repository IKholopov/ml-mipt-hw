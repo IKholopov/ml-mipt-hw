{
 "cells": [
  {
   "cell_type": "markdown",
   "metadata": {},
   "source": [
    "Байесовский классификатор относит объект к классу с наибольшей $P(y|x) = P(x|y)P(y)$. \n",
    "\n",
    "В наивном байесе: $P(y|x) = \\prod_{k}P(x^{(k)}|y)P(y)$.\n",
    "\n",
    "По условию задачи $P(y) = const = p$, $P(x^{(k)}|y) = \\frac{1}{\\sqrt{2\\pi\\sigma^2}}e^{-\\frac{(x^{(k)} - \\mu_{yk})^2}{2\\sigma^2}}$\n",
    "\n",
    "Таким образом: $P(y|x) = p\\frac{1}{(2\\pi\\sigma^2)^\\frac{n}{2}}exp({-\\frac{\\sum_{k=1}^{n}(x^{(k)} - \\mu_{yk})^2}{2\\sigma^2}}) = p\\frac{1}{(2\\pi\\sigma^2)^\\frac{n}{2}}exp({-\\frac{\\|x-\\mu_{y}\\|}{2\\sigma^2}})$\n",
    "\n",
    "Максимальное значение $P(y|x)$ достигается при минимальном $\\|x-\\mu_{y}\\| = \\rho^2(x, \\mu_{y})$. Таким образом объект будет отнесён к классу с самым близким к $x$ центром $\\mu_{y}$."
   ]
  }
 ],
 "metadata": {
  "kernelspec": {
   "display_name": "Python 2",
   "language": "python2",
   "name": "python2"
  },
  "language_info": {
   "codemirror_mode": {
    "name": "ipython",
    "version": 2
   },
   "file_extension": ".py",
   "mimetype": "text/x-python",
   "name": "python",
   "nbconvert_exporter": "python",
   "pygments_lexer": "ipython2",
   "version": "2.7.13"
  }
 },
 "nbformat": 4,
 "nbformat_minor": 2
}
