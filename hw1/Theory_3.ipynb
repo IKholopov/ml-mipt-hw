{
 "cells": [
  {
   "cell_type": "markdown",
   "metadata": {},
   "source": [
    "$E_{N} = P(y \\neq y_{n}) = P(\\{y = 1\\} \\& \\{y_{n} = 0\\}) + P(\\{y = 0\\} \\& \\{y_{n} = 1\\}) = P(1|x)P(0|x_{n}) + P(0|x)P(1|x_{n})$  \n",
    "(так как события $P(y|x)$ и $P(y|x_{n})$ независимы по условию)\n",
    "\n",
    "При $n \\rightarrow \\infty$, $x_{n} \\rightarrow x$,    \n",
    "а значит $E_{N} \\rightarrow 2 \\cdot P(1|x)P(0|x) \\leq 2 \\cdot 1 \\cdot \\min\\{P(1|x), P(0|x)\\} = 2 \\cdot E_{B}$, что и требовалось доказать."
   ]
  }
 ],
 "metadata": {
  "kernelspec": {
   "display_name": "Python 2",
   "language": "python2",
   "name": "python2"
  },
  "language_info": {
   "codemirror_mode": {
    "name": "ipython",
    "version": 2
   },
   "file_extension": ".py",
   "mimetype": "text/x-python",
   "name": "python",
   "nbconvert_exporter": "python",
   "pygments_lexer": "ipython2",
   "version": "2.7.13"
  }
 },
 "nbformat": 4,
 "nbformat_minor": 2
}
