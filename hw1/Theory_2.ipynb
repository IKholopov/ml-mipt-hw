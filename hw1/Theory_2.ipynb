{
 "cells": [
  {
   "cell_type": "markdown",
   "metadata": {},
   "source": [
    "Пусть в выборке $N_0$ и $N_1$ объектов классов $0$ и $1$ соответственно."
   ]
  },
  {
   "cell_type": "markdown",
   "metadata": {},
   "source": [
    "$TPR = \\frac{\\sum_{i=0}^{N_1}I[a(x_i) = 1]}{N_1}$, $(x_i \\in \\{\\text{класс 0}\\})$\n",
    "\n",
    "$FPR = \\frac{\\sum_{i=0}^{N_0}I[a(x_i) = 1]}{N_0}$, $(x_i \\in \\{\\text{класс 1}\\})$\n"
   ]
  },
  {
   "cell_type": "markdown",
   "metadata": {},
   "source": [
    "Т.к. $a(x_i)$ - независимые случайные велечины, а классы $0$ и $1$ не пересекаются, то $TPR$ и $FPR$ - независимые случайные велечины."
   ]
  },
  {
   "cell_type": "markdown",
   "metadata": {},
   "source": [
    "$P(TPR = \\frac{k}{N_1}) = \\binom{N_1}{k}p^{k}(1-p)^{N_1-k}$\n",
    "\n",
    "$P(FPR = \\frac{k}{N_0}) = \\binom{N_0}{k}p^{k}(1-p)^{N_0-k}$  (как суммы распределений Бернулли, делёных на константу)"
   ]
  },
  {
   "cell_type": "markdown",
   "metadata": {},
   "source": [
    "Найдём велечину треугольного $\\text{ROC-AUC}$. Положим $TRP = t$, $FRP = f$.Тогда:"
   ]
  },
  {
   "cell_type": "code",
   "execution_count": 12,
   "metadata": {
    "collapsed": false
   },
   "outputs": [
    {
     "data": {
      "image/png": "[encoded data removed]",
      "text/plain": [
       "<matplotlib.figure.Figure at 0x7f9b94dd4910>"
      ]
     },
     "metadata": {},
     "output_type": "display_data"
    }
   ],
   "source": [
    "import matplotlib.pyplot as plt\n",
    "%matplotlib inline\n",
    "\n",
    "t = 0.6\n",
    "f = 0.4\n",
    "\n",
    "plt.title('ROC-AUC')\n",
    "plt.xlabel('FPR')\n",
    "plt.ylabel('TPR')\n",
    "plt.xlim((0, 1))\n",
    "plt.ylim((0, 1))\n",
    "plt.plot([0, f, 1], [0, t, 1], color='black')\n",
    "plt.fill_between([0, f], [0, 0], [0, t], alpha=0.8)\n",
    "plt.fill_between([f, 1], [0, 0], [t, t], alpha=0.8)\n",
    "plt.fill_between([f, 1], [t, t], [t, 1], alpha=0.8)\n",
    "plt.show()"
   ]
  },
  {
   "cell_type": "markdown",
   "metadata": {},
   "source": [
    "Посчитав площади отдельных частей, получим $\\text{ROC-AUC} = \\frac{TPR \\cdot FPR}{2} + TPR(1-FPR) + \\frac{(1-TPR)(1-FPR)}{2} = \\frac{1}{2} + \\frac{TPR}{2} - \\frac{FPR}{2}$"
   ]
  },
  {
   "cell_type": "markdown",
   "metadata": {},
   "source": [
    "$E(TPR) = \\frac{N_1\\cdot p}{N_1} = p$\n",
    "\n",
    "$E(FPR) = \\frac{N_0\\cdot p}{N_0} = p$\n",
    "\n",
    "$E(\\text{ROC-AUC}) = \\frac{1}{2} + \\frac{p}{2} - \\frac{p}{2} = \\frac{1}{2}$"
   ]
  },
  {
   "cell_type": "markdown",
   "metadata": {},
   "source": [
    "Итак, матожидание метрики $\\text{ROC-AUC}$ не зависит от $p$ и соотношений классов и равна $0.5$"
   ]
  }
 ],
 "metadata": {
  "kernelspec": {
   "display_name": "Python 2",
   "language": "python2",
   "name": "python2"
  },
  "language_info": {
   "codemirror_mode": {
    "name": "ipython",
    "version": 2
   },
   "file_extension": ".py",
   "mimetype": "text/x-python",
   "name": "python",
   "nbconvert_exporter": "python",
   "pygments_lexer": "ipython2",
   "version": "2.7.13"
  }
 },
 "nbformat": 4,
 "nbformat_minor": 2
}
